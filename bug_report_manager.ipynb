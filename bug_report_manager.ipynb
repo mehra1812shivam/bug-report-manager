{
 "cells": [
  {
   "cell_type": "code",
   "execution_count": null,
   "id": "9241f67b",
   "metadata": {},
   "outputs": [],
   "source": [
    "from dotenv import load_dotenv\n",
    "from openai import AsyncOpenAI\n",
    "from agents import Agent, Runner, trace, function_tool, OpenAIChatCompletionsModel, input_guardrail, GuardrailFunctionOutput\n",
    "from typing import Dict\n",
    "# import sendgrid\n",
    "import os\n",
    "# from sendgrid.helpers.mail import Mail, Email, To, Content\n",
    "from pydantic import BaseModel\n",
    "import resend"
   ]
  },
  {
   "cell_type": "code",
   "execution_count": null,
   "id": "320bc085",
   "metadata": {},
   "outputs": [],
   "source": [
    "load_dotenv(override=True)"
   ]
  },
  {
   "cell_type": "code",
   "execution_count": null,
   "id": "259ca22e",
   "metadata": {},
   "outputs": [],
   "source": [
    "google_api_key = os.getenv('GEMINI_API_KEY')\n",
    "if google_api_key:\n",
    "    print(f\"Google API Key exists\")\n",
    "else:\n",
    "    print(\"Google API Key not set (and this is optional)\")\n"
   ]
  },
  {
   "cell_type": "code",
   "execution_count": null,
   "id": "3d4e1f39",
   "metadata": {},
   "outputs": [],
   "source": [
    "resend_api_key=os.getenv('RESEND_API_KEY')\n",
    "if resend_api_key:\n",
    "    print(f\"Resend api key found\")\n",
    "else:\n",
    "    print(\"Resend api key not found\")"
   ]
  },
  {
   "cell_type": "code",
   "execution_count": null,
   "id": "0a3be32d",
   "metadata": {},
   "outputs": [],
   "source": [
    "concise_instructions = \"You are a bug summarizer. Write a short, standardized summary of the bug. \\\n",
    "If steps or logs are missing, put 'not provided' .\\\n",
    "Return JSON with fields: title, reproductions_steps[], summary.\"\n",
    "\n",
    "developer_instructions = \"You are a developer oriented bug formatter.\\\n",
    "if logs/repro/environment are missing, fill with 'not available' or 'unclear'.\\\n",
    "Return JSON with fields: title, reproduction_steps[],stacktrace_analysis,likely_root_cause,debug_steps[],environment(dev|qa|prod) \"\n",
    "stakeholder_instructions = \"You write a business friendly view of the bug. \\\n",
    "Return JSON with fields: impact_summary, business_impact \"\n",
    "clarifications_needed = \"You need to list down points that needs to be clarified from the user to help solve the reported bug. \\\n",
    "Remember to only list down points that an end user can relate to. No technical points should be list down as the dev team is usually \\\n",
    "aware of the technology being used.\"\n",
    "html_instructions = \"You can convert a text email body to an HTML email body. \\\n",
    "You are given a text email body which might have some markdown \\\n",
    "and you need to convert it to an HTML email body with simple, clear, compelling layout and design.No technical structures like json should be there \\\n",
    "It should be well formatted, compelling layout which can be shared with the business user, development team and other stakeholders\""
   ]
  },
  {
   "cell_type": "code",
   "execution_count": null,
   "id": "66d22a60",
   "metadata": {},
   "outputs": [],
   "source": [
    "GEMINI_BASE_URL = \"https://generativelanguage.googleapis.com/v1beta/openai/\""
   ]
  },
  {
   "cell_type": "code",
   "execution_count": null,
   "id": "6818d25a",
   "metadata": {},
   "outputs": [],
   "source": [
    "gemini_client = AsyncOpenAI(base_url=GEMINI_BASE_URL, api_key=google_api_key)\n",
    "gemini_model = OpenAIChatCompletionsModel(model=\"gemini-2.0-flash\", openai_client=gemini_client)"
   ]
  },
  {
   "cell_type": "code",
   "execution_count": null,
   "id": "8b0273f4",
   "metadata": {},
   "outputs": [],
   "source": [
    "concise_agent=Agent(name=\"concise_agent\",instructions=concise_instructions,model=gemini_model)\n",
    "developer_agent=Agent(name=\"developer_agent\",instructions=developer_instructions,model=gemini_model)\n",
    "stakeholder_agent=Agent(name=\"stakeholder_agent\",instructions=stakeholder_instructions,model=gemini_model)\n",
    "clarification_agent=Agent(name=\"clarifications_agent\",instructions=clarifications_needed,model=gemini_model)\n",
    "html_agent=Agent(name=\"HTML_Converter_Agent\",instructions=html_instructions,model=gemini_model)"
   ]
  },
  {
   "cell_type": "code",
   "execution_count": null,
   "id": "69437e38",
   "metadata": {},
   "outputs": [],
   "source": [
    "concise_tool=concise_agent.as_tool(tool_name=\"concise_tool\",tool_description=\"Generates a concise summary\")\n",
    "developer_tool=developer_agent.as_tool(tool_name=\"developer_tool\",tool_description=\"Generates developer view\")\n",
    "stakeholder_tool=stakeholder_agent.as_tool(tool_name=\"stakeholder_tool\",tool_description=\"Generates stakeholder view\")\n",
    "clarification_tool=clarification_agent.as_tool(tool_name=\"clarification_tool\",tool_description=\"Generates points for clarification\")\n",
    "html_tool=html_agent.as_tool(tool_name=\"html_converter_tool\",tool_description=\"Convert a text email body to an HTML email body\")"
   ]
  },
  {
   "cell_type": "code",
   "execution_count": null,
   "id": "5eb036b8",
   "metadata": {},
   "outputs": [],
   "source": [
    "class EvaluationResult(BaseModel):\n",
    "    primary_draft: str\n",
    "    reason: str\n",
    "    needs_human_review: bool"
   ]
  },
  {
   "cell_type": "code",
   "execution_count": null,
   "id": "55bc9911",
   "metadata": {},
   "outputs": [],
   "source": [
    "@function_tool\n",
    "def evaluator_tool(concise, developer, stakeholder):\n",
    "    \"\"\"\"Decides which drfat should be the primary one.\n",
    "    Returns JSON with primary_draft(concise|developer|stakeholder),reason, needs_human_review. \"\"\"\n",
    "    if developer.get(\"reproduction_steps\") and \"not available\" not in developer.get(\"reproduction_steps\",[]):\n",
    "        choice=\"developer\"\n",
    "        reason=\"Developer draft has repro steps\"\n",
    "    elif \"impact_summary\" in stakeholder:\n",
    "        choice= \"stakeholder\"\n",
    "        reason= \"Business-facing impact is clearer\"\n",
    "    else:\n",
    "        choice=\"concise\"\n",
    "        reason= \"only concise draft usable\"\n",
    "    return {\n",
    "        \"primary_draft\":choice,\n",
    "        \"reason\":reason,\n",
    "        \"needs_human_review\": False\n",
    "    }"
   ]
  },
  {
   "cell_type": "code",
   "execution_count": null,
   "id": "8576b12e",
   "metadata": {},
   "outputs": [],
   "source": [
    "resend.api_key = resend_api_key\n",
    "@function_tool\n",
    "def send_email(to_email,subject,body):\n",
    "  \"\"\"\n",
    "  Sends bug report emai via resend api\n",
    "  \"\"\"\n",
    "  r = resend.Emails.send({\n",
    "    \"from\": \"onboarding@resend.dev\",\n",
    "    \"to\": to_email,\n",
    "    \"subject\": subject,\n",
    "    \"html\": body\n",
    "  })\n",
    "  return {\"success\"}"
   ]
  },
  {
   "cell_type": "code",
   "execution_count": null,
   "id": "c29e455d",
   "metadata": {},
   "outputs": [],
   "source": [
    "manager=Agent(name=\"manager\",model=gemini_model, instructions=\"\"\"\n",
    "You are the Bug Report Manager. \n",
    "Steps:\n",
    "1. Call the concise_tool, developer_tool, stakeholder_tool and clarification_tool to generate the drafts\n",
    "2. Call evaluator_tool with their outputs. \n",
    "3. Use the evaluator tool to decide the subject and body. The body should also contain the results of clarification tool in the end if needed. \\\n",
    "    if the evaluator tool fails decide based on the given information decide youself of the subject and body with relevant details \n",
    "4. Draft an email as the final bug report.\n",
    "The report should be from perspective of an issue being reported by the user, therefore do not use I anywhere.The report will have primary draft as the main portion and other drafts should also be there in the mail as important subparts. It should be well \\\n",
    "formatted as email based on the information and no technical structures like json should be used in email. \n",
    "5. Use the html_tool to convert the text body into html to ensure formatting and layout of mail content is  maintained. Well formatted points to ensure readability\n",
    "6. Use the send_email tool to finally send the email\"\"\",\n",
    "tools=[concise_tool,developer_tool,stakeholder_tool,clarification_tool,evaluator_tool,html_tool,send_email])"
   ]
  },
  {
   "cell_type": "code",
   "execution_count": null,
   "id": "279da72e",
   "metadata": {},
   "outputs": [],
   "source": [
    "\n",
    "# from agents import result\n",
    "\n",
    "result=await Runner.run(manager,\n",
    "    input=[\n",
    "        {\"role\":\"user\",\"content\":\"Payment Page Crashedw with white screen after submitting upi details. Observed on android 13, one plus 9, version 5.2.0\"},\n",
    "        {\"role\":\"user\",\"content\":\"Recipient email: ['recipient email id']\"}\n",
    "    ]\n",
    ")\n",
    "print(result.final_output)\n"
   ]
  }
 ],
 "metadata": {
  "kernelspec": {
   "display_name": ".venv",
   "language": "python",
   "name": "python3"
  },
  "language_info": {
   "codemirror_mode": {
    "name": "ipython",
    "version": 3
   },
   "file_extension": ".py",
   "mimetype": "text/x-python",
   "name": "python",
   "nbconvert_exporter": "python",
   "pygments_lexer": "ipython3",
   "version": "3.12.11"
  }
 },
 "nbformat": 4,
 "nbformat_minor": 5
}
